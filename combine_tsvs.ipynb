{
 "cells": [
  {
   "cell_type": "code",
   "execution_count": null,
   "id": "0f653b08-7cd7-4734-b015-f42ab7c53e24",
   "metadata": {},
   "outputs": [],
   "source": [
    "# This code takes all the PSM files that have been combined with the MZML files and combines them\n",
    "# The result is one huge tsv for each type of run\n",
    "\n",
    "import pandas as pd\n",
    "\n",
    "sc_filenames = ['sc_rep1','sc_rep2','sc_rep3','sc_rep4','sc_rep5']\n",
    "list_2ng_filenames = ['2ng_rep1', '2ng_rep2', '2ng_rep3', '2ng_rep4', '2ng_rep5', '2ng_rep6']\n",
    "list_02ng_filenames = ['0.2ng_rep1','0.2ng_rep2','0.2ng_rep3','0.2ng_rep4','0.2ng_rep5','0.2ng_rep6']\n",
    "\n",
    "file_lists = [sc_filenames, list_2ng_filenames, list_02ng_filenames]\n",
    "\n",
    "for file_list in file_lists:\n",
    "    frames = []\n",
    "    for file_name in file_list:\n",
    "        read_file_path = \"data/parsed_psm/\" + file_name + \".tsv.gz\"\n",
    "        df = pd.read_csv(read_file_path, sep='\\t')\n",
    "\n",
    "        frames.append(df)\n",
    "    \n",
    "    the_ultimate_df = pd.concat(frames)\n",
    "    typename = file_list[0].split('_')[0]\n",
    "    write_file_path = \"data/parsed_psm/all_\" + typename + \".tsv\"\n",
    "    the_ultimate_df.to_csv(write_file_path, sep=\"\\t\")"
   ]
  }
 ],
 "metadata": {
  "kernelspec": {
   "display_name": "Python 3",
   "language": "python",
   "name": "python3"
  },
  "language_info": {
   "codemirror_mode": {
    "name": "ipython",
    "version": 3
   },
   "file_extension": ".py",
   "mimetype": "text/x-python",
   "name": "python",
   "nbconvert_exporter": "python",
   "pygments_lexer": "ipython3",
   "version": "3.9.6"
  }
 },
 "nbformat": 4,
 "nbformat_minor": 5
}
