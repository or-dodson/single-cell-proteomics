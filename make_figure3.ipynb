{
 "cells": [
  {
   "cell_type": "code",
   "execution_count": 1,
   "id": "3f77c903-a5a3-478e-9184-52d94898d00f",
   "metadata": {},
   "outputs": [],
   "source": [
    "import pandas as pd\n",
    "import numpy as np\n",
    "from itertools import product\n",
    "import matplotlib.pyplot as plt\n",
    "import seaborn as sns"
   ]
  },
  {
   "cell_type": "code",
   "execution_count": 2,
   "id": "5fed2263-3457-4f53-bac2-00a5f47b8c34",
   "metadata": {},
   "outputs": [],
   "source": [
    "def make_figure(df, output_file=\"fig3.pdf\"):\n",
    "    sns.set_palette(\"rocket_r\")\n",
    "    \n",
    "    data = df.copy()\n",
    "    data[\"sector/Intensity\"] = df[\"sector\"].astype(str) + \", \" + df[\"Intensity\"]\n",
    "\n",
    "    # Make the plot\n",
    "    fig, ax = plt.subplots(1,1, figsize=(12,4))\n",
    "\n",
    "    sns.barplot(ax=ax, x=\"sector/Intensity\", y=\"counts\", hue=\"type\", ci=None, data=data)\n",
    "\n",
    "    width = .1\n",
    "    for patch in ax.patches :\n",
    "        current_width = patch.get_width()\n",
    "        diff = current_width - width\n",
    "\n",
    "        # we change the bar width\n",
    "        patch.set_width(width)\n",
    "\n",
    "        # we recenter the bar\n",
    "        patch.set_x(patch.get_x() + diff * .5)\n",
    "    \n",
    "    ax.set_xlabel(\"Sector, Intensity\")\n",
    "    ax.set_ylabel(\"Proportion of Counts\")\n",
    "    plt.legend(title='Data Source', labels=['Single Cell', '2ng', '0.2ng', 'Bulk'])\n",
    "\n",
    "    plt.savefig(output_file)\n",
    "    plt.show()"
   ]
  },
  {
   "cell_type": "code",
   "execution_count": 3,
   "id": "71be222f-839d-4bee-8085-69ebb374f2f4",
   "metadata": {},
   "outputs": [],
   "source": [
    "data_types = [\"sc\", \"2ng\", \"0.2ng\", \"bulk\"]\n",
    "ys = []\n",
    "bs = []\n",
    "for data_type in data_types:\n",
    "    df = pd.read_csv(\"data/combined/all_\" + data_type + \".tsv\", sep=\"\\t\")\n",
    "    df = df[[\"Intensity\", \"sector\", \"Ion Type\"]]\n",
    "    \n",
    "    df_b = df[df[\"Ion Type\"] == \"b\"]\n",
    "    df_b = df_b[[\"Intensity\", \"sector\"]]\n",
    "\n",
    "    df_y = df[df[\"Ion Type\"] == \"y\"]\n",
    "    df_y = df_y[[\"Intensity\", \"sector\"]]\n",
    "\n",
    "    b_counts = pd.DataFrame(df_b.value_counts())\n",
    "    b_counts = b_counts.reset_index()\n",
    "    b_counts.rename(columns = {0:'counts'}, inplace = True)\n",
    "    \n",
    "    y_counts = pd.DataFrame(df_y.value_counts())\n",
    "    y_counts.rename(columns = {0:'counts'}, inplace = True)\n",
    "    y_counts = y_counts.reset_index()\n",
    "    \n",
    "    intensities = [\"none\", \"low\", \"medium\", \"high\"]\n",
    "    sectors = [1, 2, 3]\n",
    "\n",
    "    df_template = pd.DataFrame(product(intensities, sectors), columns=[\"Intensity\", \"sector\"])\n",
    "    b_template = df_template.copy()\n",
    "    y_template = df_template.copy()\n",
    "    \n",
    "    b = pd.merge(b_template, b_counts, on=[\"Intensity\", \"sector\"], how=\"outer\")\n",
    "    b_counts_sum = b.counts.sum()\n",
    "    b.counts = b.counts.apply(lambda x: x / b_counts_sum)\n",
    "    b[\"type\"] = data_type\n",
    "    bs.append(b)\n",
    "    \n",
    "    y = pd.merge(y_template, y_counts, on=[\"Intensity\", \"sector\"], how=\"outer\")\n",
    "    y_counts_sum = y.counts.sum()\n",
    "    y.counts = y.counts.apply(lambda x: x / y_counts_sum)\n",
    "    y[\"type\"] = data_type\n",
    "    ys.append(y)"
   ]
  },
  {
   "cell_type": "code",
   "execution_count": 4,
   "id": "2302369b-d366-4c34-8979-0d3aceaadff6",
   "metadata": {},
   "outputs": [],
   "source": [
    "all_y = pd.concat(ys)\n",
    "all_b = pd.concat(bs)\n",
    "# Manually select the best looking ones, maybe in the future could automatically select the most significant\n",
    "all_y = all_y.loc[\n",
    "    ((all_y[\"sector\"] == 1) & (all_y[\"Intensity\"] == \"none\")) |\n",
    "    ((all_y[\"sector\"] == 3) & (all_y[\"Intensity\"] == \"none\")) |\n",
    "    ((all_y[\"sector\"] == 3) & (all_y[\"Intensity\"] == \"low\")) |\n",
    "    ((all_y[\"sector\"] == 1) & (all_y[\"Intensity\"] == \"medium\")) |\n",
    "    ((all_y[\"sector\"] == 2) & (all_y[\"Intensity\"] == \"medium\")) |\n",
    "    ((all_y[\"sector\"] == 2) & (all_y[\"Intensity\"] == \"high\")) \n",
    "]\n",
    "all_b = all_b.loc[\n",
    "    ((all_b[\"Intensity\"] == \"none\")) |\n",
    "    ((all_b[\"Intensity\"] == \"low\"))\n",
    "]"
   ]
  },
  {
   "cell_type": "code",
   "execution_count": 5,
   "id": "cede9a1a-97e2-4b69-811a-f2b1aa7c361f",
   "metadata": {},
   "outputs": [
    {
     "data": {
      "image/png": "[encoded data removed]",
      "text/plain": [
       "<Figure size 864x288 with 1 Axes>"
      ]
     },
     "metadata": {
      "needs_background": "light"
     },
     "output_type": "display_data"
    }
   ],
   "source": [
    "make_figure(all_y)"
   ]
  },
  {
   "cell_type": "code",
   "execution_count": 6,
   "id": "8db0fea0-0552-4bcc-a9b3-61517bb7d900",
   "metadata": {},
   "outputs": [
    {
     "data": {
      "image/png": "[encoded data removed]",
      "text/plain": [
       "<Figure size 864x288 with 1 Axes>"
      ]
     },
     "metadata": {
      "needs_background": "light"
     },
     "output_type": "display_data"
    }
   ],
   "source": [
    "make_figure(all_b)"
   ]
  },
  {
   "cell_type": "code",
   "execution_count": null,
   "id": "a7e49733-8b1e-474c-b755-26f0129011ea",
   "metadata": {},
   "outputs": [],
   "source": []
  },
  {
   "cell_type": "code",
   "execution_count": null,
   "id": "6c945ccc-d8f8-4b95-bea8-87cd2e800a37",
   "metadata": {},
   "outputs": [],
   "source": []
  }
 ],
 "metadata": {
  "kernelspec": {
   "display_name": "Python 3 (ipykernel)",
   "language": "python",
   "name": "python3"
  },
  "language_info": {
   "codemirror_mode": {
    "name": "ipython",
    "version": 3
   },
   "file_extension": ".py",
   "mimetype": "text/x-python",
   "name": "python",
   "nbconvert_exporter": "python",
   "pygments_lexer": "ipython3",
   "version": "3.9.10"
  }
 },
 "nbformat": 4,
 "nbformat_minor": 5
}
