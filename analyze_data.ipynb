{
 "cells": [
  {
   "cell_type": "markdown",
   "metadata": {},
   "source": [
    "# Import packages"
   ]
  },
  {
   "cell_type": "code",
   "execution_count": 1,
   "metadata": {},
   "outputs": [],
   "source": [
    "import pandas as pd\n",
    "import numpy as np\n",
    "import matplotlib.pyplot as plt\n",
    "import seaborn as sns\n",
    "import scipy.stats as stats\n",
    "from scipy.spatial.distance import jensenshannon\n",
    "from itertools import combinations\n",
    "from tqdm.notebook import tqdm"
   ]
  },
  {
   "cell_type": "markdown",
   "metadata": {},
   "source": [
    "# Define useful functions"
   ]
  },
  {
   "cell_type": "code",
   "execution_count": 2,
   "metadata": {},
   "outputs": [],
   "source": [
    "# The types of data we will be working with\n",
    "types = [\"0.2ng\", \"2ng\", \"sc\", \"bulk\"]"
   ]
  },
  {
   "cell_type": "code",
   "execution_count": 3,
   "metadata": {},
   "outputs": [],
   "source": [
    "def plot_peptide_length_distribution(df, out_file=None):\n",
    "    min_length = df[\"peptide_length\"].min()\n",
    "    max_length = df[\"peptide_length\"].max()\n",
    "    num_bins = max_length - min_length + 1\n",
    "\n",
    "    fig, axs = plt.subplots(2,2,sharey=True)\n",
    "    axs = axs.flatten()\n",
    "\n",
    "    for type, ax in zip(types,axs):\n",
    "        ax.hist(df.loc[df[\"type\"]==type, \"peptide_length\"], bins=num_bins, range=(min_length-.5, max_length+.5), density=True)\n",
    "        ax.set_title(\"Histogram for \" + type + \" data\")\n",
    "        ax.set_xlabel(\"Peptide Length\")\n",
    "        ax.set_ylabel(\"Frequency\")\n",
    "\n",
    "    fig.tight_layout()\n",
    "    if out_file is not None:\n",
    "        plt.savefig(out_file)\n",
    "    plt.show()\n"
   ]
  },
  {
   "cell_type": "code",
   "execution_count": 4,
   "metadata": {},
   "outputs": [],
   "source": [
    "# This is looking better, but we should probably play it safe and sample from a \n",
    "# \"mean distribution\" to get all of the distributions looking the same.\n",
    "def find_mean_distribution(peptide_lengths):\n",
    "    min_length = peptide_lengths[\"peptide_length\"].min()\n",
    "    max_length = peptide_lengths[\"peptide_length\"].max()\n",
    "    num_bins = max_length - min_length + 1\n",
    "\n",
    "    distributions = []\n",
    "    for datatype in types:\n",
    "        dist = np.histogram(peptide_lengths.loc[peptide_lengths[\"type\"]==datatype, \"peptide_length\"], bins=num_bins, range=(min_length-.5, max_length+.5), density=True)[0]\n",
    "        distributions.append(dist)\n",
    "\n",
    "    distributions = np.array(distributions)\n",
    "\n",
    "    mean_dist = distributions.mean(axis=0)\n",
    "\n",
    "    # We will also only consider values that can possibly be sampled.\n",
    "    # I.e. If one of the distributions does not have any length 25 peptides, we can't sample from it there.\n",
    "    # Thus, set those, if any, to have zero probability and rescale the mean distribution\n",
    "\n",
    "    threshold = 1e-14 # Threshold to handle roundoff\n",
    "    impossible = np.any(distributions <= threshold, axis=0)\n",
    "\n",
    "    mean_dist[impossible] = 0\n",
    "\n",
    "    # Rescale to probability 1\n",
    "    mean_dist *= 1/np.sum(mean_dist)\n",
    "\n",
    "    return mean_dist\n",
    "\n",
    "def plot_distribution(mean_dist, dist_range, outfile=None):\n",
    "    min_length, max_length = dist_range\n",
    "    plt.bar(range(min_length, max_length+1), mean_dist, width=1)\n",
    "    plt.title(\"The mean distribution of peptide lengths\")\n",
    "    if outfile is not None:\n",
    "        plt.savefig(outfile)\n",
    "    plt.show()"
   ]
  },
  {
   "cell_type": "code",
   "execution_count": 5,
   "metadata": {},
   "outputs": [],
   "source": [
    "def get_counts_df(df):\n",
    "    df = df.copy()\n",
    "    df[\"counts\"] = 1\n",
    "    df = df.groupby([\"type\",\"Intensity\",\"sector\"]).sum()\n",
    "    df = df.reset_index()\n",
    "    df = df.set_index(\"type\")\n",
    "    df[\"total\"] = (df.reset_index()[[\"type\", \"counts\"]].groupby(\"type\").sum())[\"counts\"]\n",
    "    df = df.reset_index()\n",
    "    df[\"counts\"] = df[\"counts\"] / df[\"total\"]\n",
    "    df = df.drop(columns=[\"total\"])\n",
    "    df.sort_index(inplace=True)\n",
    "\n",
    "    return df\n"
   ]
  },
  {
   "cell_type": "code",
   "execution_count": 6,
   "metadata": {},
   "outputs": [],
   "source": [
    "\n",
    "def sample_to_distribution(peptide_lengths, mean_dist, random_state):\n",
    "    min_length = peptide_lengths[\"peptide_length\"].min()\n",
    "    max_length = peptide_lengths[\"peptide_length\"].max()\n",
    "    num_bins = max_length - min_length + 1\n",
    "\n",
    "    keep_percentages = []\n",
    "    chosen_peptides = []\n",
    "    for datatype in types:\n",
    "        # Filter to only what we need\n",
    "        filtered_df = peptide_lengths.loc[peptide_lengths[\"type\"] == datatype]\n",
    "\n",
    "        # Get counts of the number of peptides\n",
    "        peptide_counts = np.histogram(filtered_df.loc[:, \"peptide_length\"], bins=num_bins, range=(min_length-.5, max_length+.5))[0]\n",
    "        total_peptides = np.sum(peptide_counts)\n",
    "        \n",
    "        # Sample from a multinomial distribution with n = total_peptides\n",
    "        samples = stats.multinomial.rvs(total_peptides, p=mean_dist, random_state=random_state)\n",
    "\n",
    "        # print(peptide_counts)\n",
    "        # print(samples)\n",
    "        # Find out what percent of the original data we get to keep\n",
    "        # The closer the distribution is to the mean distribution, the more of it we get to keep\n",
    "        keep_ratio = np.max(samples[peptide_counts != 0] / peptide_counts[peptide_counts != 0])\n",
    "        samples = (samples/keep_ratio).astype(int) # Keep them integers\n",
    "\n",
    "        kept_peptides = np.sum(samples)\n",
    "\n",
    "        # The percentage of data from this datatype that is kept once we're done sampling\n",
    "        keep_percentages.append(kept_peptides/total_peptides)\n",
    "\n",
    "        # Sample from the original distributions\n",
    "        for N, pep_length in zip(samples, range(min_length, max_length + 1)):\n",
    "            chosen_peptides.append(filtered_df[filtered_df[\"peptide_length\"] == pep_length].sample(N, replace=False, random_state=random_state))\n",
    "\n",
    "    chosen_peptides = pd.concat(chosen_peptides)\n",
    "\n",
    "    return chosen_peptides, list(zip(types, keep_percentages))"
   ]
  },
  {
   "cell_type": "code",
   "execution_count": 7,
   "metadata": {},
   "outputs": [],
   "source": [
    "# Modified from figure3.ipynb\n",
    "def make_figure(df, output_file=None):\n",
    "    data = df.copy()\n",
    "    data[\"sector/intensity\"] = df[\"sector\"].astype(str) + \"/\" + df[\"Intensity\"]\n",
    "\n",
    "    # Make the plot\n",
    "    fig, ax = plt.subplots(1,1, figsize=(12,4))\n",
    "\n",
    "    sns.barplot(ax=ax, x=\"sector/intensity\", y=\"counts\", hue=\"type\", ci=None, data=data)\n",
    "\n",
    "    width = .1\n",
    "    for patch in ax.patches :\n",
    "        current_width = patch.get_width()\n",
    "        diff = current_width - width\n",
    "\n",
    "        # we change the bar width\n",
    "        patch.set_width(width)\n",
    "\n",
    "        # we recenter the bar\n",
    "        patch.set_x(patch.get_x() + diff * .5)\n",
    "    \n",
    "    ax.set_xlabel(\"Sector/Intensity\")\n",
    "    ax.set_ylabel(\"Proportion of Counts\")\n",
    "\n",
    "    if output_file is not None:\n",
    "        plt.savefig(output_file)\n",
    "    plt.show()\n",
    "    "
   ]
  },
  {
   "cell_type": "markdown",
   "metadata": {},
   "source": [
    "# Load the data"
   ]
  },
  {
   "cell_type": "code",
   "execution_count": 8,
   "metadata": {},
   "outputs": [
    {
     "data": {
      "text/html": [
       "<div>\n",
       "<style scoped>\n",
       "    .dataframe tbody tr th:only-of-type {\n",
       "        vertical-align: middle;\n",
       "    }\n",
       "\n",
       "    .dataframe tbody tr th {\n",
       "        vertical-align: top;\n",
       "    }\n",
       "\n",
       "    .dataframe thead th {\n",
       "        text-align: right;\n",
       "    }\n",
       "</style>\n",
       "<table border=\"1\" class=\"dataframe\">\n",
       "  <thead>\n",
       "    <tr style=\"text-align: right;\">\n",
       "      <th></th>\n",
       "      <th>type</th>\n",
       "      <th>peptide</th>\n",
       "      <th>peptide_length</th>\n",
       "    </tr>\n",
       "    <tr>\n",
       "      <th>scan</th>\n",
       "      <th></th>\n",
       "      <th></th>\n",
       "      <th></th>\n",
       "    </tr>\n",
       "  </thead>\n",
       "  <tbody>\n",
       "    <tr>\n",
       "      <th>4671</th>\n",
       "      <td>bulk</td>\n",
       "      <td>AGFAGDDAPR</td>\n",
       "      <td>10</td>\n",
       "    </tr>\n",
       "    <tr>\n",
       "      <th>4699</th>\n",
       "      <td>0.2ng</td>\n",
       "      <td>TLTSGGHAEHEGK</td>\n",
       "      <td>13</td>\n",
       "    </tr>\n",
       "    <tr>\n",
       "      <th>4722</th>\n",
       "      <td>0.2ng</td>\n",
       "      <td>KPAAATVTK</td>\n",
       "      <td>9</td>\n",
       "    </tr>\n",
       "    <tr>\n",
       "      <th>4742</th>\n",
       "      <td>0.2ng</td>\n",
       "      <td>AAGHPGDPESQQR</td>\n",
       "      <td>13</td>\n",
       "    </tr>\n",
       "    <tr>\n",
       "      <th>4772</th>\n",
       "      <td>0.2ng</td>\n",
       "      <td>ENQGDETQGQQPPQR</td>\n",
       "      <td>15</td>\n",
       "    </tr>\n",
       "    <tr>\n",
       "      <th>...</th>\n",
       "      <td>...</td>\n",
       "      <td>...</td>\n",
       "      <td>...</td>\n",
       "    </tr>\n",
       "    <tr>\n",
       "      <th>139870</th>\n",
       "      <td>bulk</td>\n",
       "      <td>SQDDEIGDGTTGVVVLAGALLEEAEQLLDR</td>\n",
       "      <td>30</td>\n",
       "    </tr>\n",
       "    <tr>\n",
       "      <th>139871</th>\n",
       "      <td>bulk</td>\n",
       "      <td>TGPAATTLPDGAAAESLVESSEVAVIGFFK</td>\n",
       "      <td>30</td>\n",
       "    </tr>\n",
       "    <tr>\n",
       "      <th>139970</th>\n",
       "      <td>bulk</td>\n",
       "      <td>TALLDAAGVASLLTTAEVVVTEIPK</td>\n",
       "      <td>25</td>\n",
       "    </tr>\n",
       "    <tr>\n",
       "      <th>141005</th>\n",
       "      <td>bulk</td>\n",
       "      <td>VIHDNFGIVEGLMTTVHAITATQK</td>\n",
       "      <td>24</td>\n",
       "    </tr>\n",
       "    <tr>\n",
       "      <th>141259</th>\n",
       "      <td>bulk</td>\n",
       "      <td>VIHDNFGIVEGLMTTVHAITATQK</td>\n",
       "      <td>24</td>\n",
       "    </tr>\n",
       "  </tbody>\n",
       "</table>\n",
       "<p>148892 rows × 3 columns</p>\n",
       "</div>"
      ],
      "text/plain": [
       "         type                         peptide  peptide_length\n",
       "scan                                                         \n",
       "4671     bulk                      AGFAGDDAPR              10\n",
       "4699    0.2ng                   TLTSGGHAEHEGK              13\n",
       "4722    0.2ng                       KPAAATVTK               9\n",
       "4742    0.2ng                   AAGHPGDPESQQR              13\n",
       "4772    0.2ng                 ENQGDETQGQQPPQR              15\n",
       "...       ...                             ...             ...\n",
       "139870   bulk  SQDDEIGDGTTGVVVLAGALLEEAEQLLDR              30\n",
       "139871   bulk  TGPAATTLPDGAAAESLVESSEVAVIGFFK              30\n",
       "139970   bulk       TALLDAAGVASLLTTAEVVVTEIPK              25\n",
       "141005   bulk        VIHDNFGIVEGLMTTVHAITATQK              24\n",
       "141259   bulk        VIHDNFGIVEGLMTTVHAITATQK              24\n",
       "\n",
       "[148892 rows x 3 columns]"
      ]
     },
     "execution_count": 8,
     "metadata": {},
     "output_type": "execute_result"
    }
   ],
   "source": [
    "# Import the data\n",
    "dfs = []\n",
    "for datatype in types:\n",
    "    df = pd.read_table(\"data/combined_tsvs/all_\" + datatype + \".tsv\")\n",
    "    df[\"type\"] = datatype\n",
    "    dfs.append(df)\n",
    "\n",
    "raw_df = pd.concat(dfs)\n",
    "\n",
    "peptide_lengths = raw_df.groupby([\"scan\",\"type\"])[[\"peptide\"]].first()\n",
    "peptide_lengths[\"peptide_length\"] = peptide_lengths[\"peptide\"].apply(len)\n",
    "peptide_lengths = peptide_lengths.reset_index(level=\"type\")\n",
    "\n",
    "peptide_lengths"
   ]
  },
  {
   "cell_type": "markdown",
   "metadata": {},
   "source": [
    "# Clean the incoming data so that it is all taken from the same distribution"
   ]
  },
  {
   "cell_type": "code",
   "execution_count": 9,
   "metadata": {},
   "outputs": [
    {
     "data": {
      "image/png": "[encoded data removed]",
      "text/plain": [
       "<Figure size 432x288 with 4 Axes>"
      ]
     },
     "metadata": {
      "needs_background": "light"
     },
     "output_type": "display_data"
    }
   ],
   "source": [
    "# Keeping all data\n",
    "plot_peptide_length_distribution(peptide_lengths)"
   ]
  },
  {
   "cell_type": "code",
   "execution_count": 10,
   "metadata": {},
   "outputs": [
    {
     "data": {
      "image/png": "[encoded data removed]",
      "text/plain": [
       "<Figure size 432x288 with 4 Axes>"
      ]
     },
     "metadata": {
      "needs_background": "light"
     },
     "output_type": "display_data"
    }
   ],
   "source": [
    "# Restricting to where we have 8 <= peptide_length <= 15\n",
    "plot_peptide_length_distribution(peptide_lengths[(peptide_lengths[\"peptide_length\"] <= 15) & (peptide_lengths[\"peptide_length\"] >= 8)])"
   ]
  },
  {
   "cell_type": "code",
   "execution_count": 11,
   "metadata": {},
   "outputs": [
    {
     "data": {
      "image/png": "[encoded data removed]",
      "text/plain": [
       "<Figure size 432x288 with 1 Axes>"
      ]
     },
     "metadata": {
      "needs_background": "light"
     },
     "output_type": "display_data"
    },
    {
     "data": {
      "image/png": "[encoded data removed]",
      "text/plain": [
       "<Figure size 432x288 with 4 Axes>"
      ]
     },
     "metadata": {
      "needs_background": "light"
     },
     "output_type": "display_data"
    },
    {
     "name": "stdout",
     "output_type": "stream",
     "text": [
      "Percentage of each data type that is kept: [('0.2ng', 0.09439452289259735), ('2ng', 0.1470356423504685), ('sc', 0.33256300209089906), ('bulk', 0.5499990501700196)]\n"
     ]
    }
   ],
   "source": [
    "# We try to normalize each distribution to a \"mean distribution\"\n",
    "random_state = np.random.RandomState(8675309)\n",
    "mean_dist = find_mean_distribution(peptide_lengths)\n",
    "chosen_peptides, keep_percentages = sample_to_distribution(peptide_lengths, mean_dist, random_state)\n",
    "\n",
    "plot_distribution(mean_dist, (peptide_lengths[\"peptide_length\"].min(), peptide_lengths[\"peptide_length\"].max()))\n",
    "plot_peptide_length_distribution(chosen_peptides)\n",
    "print(f\"Percentage of each data type that is kept: {keep_percentages}\")"
   ]
  },
  {
   "cell_type": "code",
   "execution_count": 12,
   "metadata": {},
   "outputs": [
    {
     "data": {
      "image/png": "[encoded data removed]",
      "text/plain": [
       "<Figure size 432x288 with 1 Axes>"
      ]
     },
     "metadata": {
      "needs_background": "light"
     },
     "output_type": "display_data"
    },
    {
     "data": {
      "image/png": "[encoded data removed]",
      "text/plain": [
       "<Figure size 432x288 with 4 Axes>"
      ]
     },
     "metadata": {
      "needs_background": "light"
     },
     "output_type": "display_data"
    },
    {
     "name": "stdout",
     "output_type": "stream",
     "text": [
      "Percentage of each data type that is kept: [('0.2ng', 0.7085665496632199), ('2ng', 0.886229390312805), ('sc', 0.8081564710778194), ('bulk', 0.7175446563729942)]\n"
     ]
    }
   ],
   "source": [
    "# What we have above is looking good, but we're losing a lot of data, especially single cell data, which isn't ideal. Let's restrict to\n",
    "# between 8 and 15 and also try to normalize each distribution to the \"mean distribution\"\n",
    "random_state = np.random.RandomState(8675309)\n",
    "clamped_lengths = peptide_lengths[(peptide_lengths[\"peptide_length\"] <= 15) & (peptide_lengths[\"peptide_length\"] >= 8)]\n",
    "mean_dist = find_mean_distribution(clamped_lengths)\n",
    "cleaned_peptides, keep_percentages = sample_to_distribution(clamped_lengths, mean_dist, random_state)\n",
    "\n",
    "plot_distribution(mean_dist, (clamped_lengths[\"peptide_length\"].min(), clamped_lengths[\"peptide_length\"].max()))\n",
    "plot_peptide_length_distribution(cleaned_peptides)\n",
    "print(f\"Percentage of each data type that is kept: {keep_percentages}\")"
   ]
  },
  {
   "cell_type": "code",
   "execution_count": 13,
   "metadata": {},
   "outputs": [
    {
     "data": {
      "text/html": [
       "<div>\n",
       "<style scoped>\n",
       "    .dataframe tbody tr th:only-of-type {\n",
       "        vertical-align: middle;\n",
       "    }\n",
       "\n",
       "    .dataframe tbody tr th {\n",
       "        vertical-align: top;\n",
       "    }\n",
       "\n",
       "    .dataframe thead th {\n",
       "        text-align: right;\n",
       "    }\n",
       "</style>\n",
       "<table border=\"1\" class=\"dataframe\">\n",
       "  <thead>\n",
       "    <tr style=\"text-align: right;\">\n",
       "      <th></th>\n",
       "      <th>scan</th>\n",
       "      <th>peptide</th>\n",
       "      <th>file_name</th>\n",
       "      <th>Ion Type</th>\n",
       "      <th>Ion Number</th>\n",
       "      <th>sector</th>\n",
       "      <th>Intensity</th>\n",
       "      <th>type</th>\n",
       "    </tr>\n",
       "  </thead>\n",
       "  <tbody>\n",
       "    <tr>\n",
       "      <th>0</th>\n",
       "      <td>19588</td>\n",
       "      <td>TSFFQALGITTK</td>\n",
       "      <td>Ex_Auto_J3_30umTB_02ngQC_60m_1-calib</td>\n",
       "      <td>b</td>\n",
       "      <td>1</td>\n",
       "      <td>1</td>\n",
       "      <td>none</td>\n",
       "      <td>0.2ng</td>\n",
       "    </tr>\n",
       "    <tr>\n",
       "      <th>1</th>\n",
       "      <td>19588</td>\n",
       "      <td>TSFFQALGITTK</td>\n",
       "      <td>Ex_Auto_J3_30umTB_02ngQC_60m_1-calib</td>\n",
       "      <td>b</td>\n",
       "      <td>2</td>\n",
       "      <td>1</td>\n",
       "      <td>low</td>\n",
       "      <td>0.2ng</td>\n",
       "    </tr>\n",
       "    <tr>\n",
       "      <th>2</th>\n",
       "      <td>19588</td>\n",
       "      <td>TSFFQALGITTK</td>\n",
       "      <td>Ex_Auto_J3_30umTB_02ngQC_60m_1-calib</td>\n",
       "      <td>b</td>\n",
       "      <td>3</td>\n",
       "      <td>1</td>\n",
       "      <td>low</td>\n",
       "      <td>0.2ng</td>\n",
       "    </tr>\n",
       "    <tr>\n",
       "      <th>3</th>\n",
       "      <td>19588</td>\n",
       "      <td>TSFFQALGITTK</td>\n",
       "      <td>Ex_Auto_J3_30umTB_02ngQC_60m_1-calib</td>\n",
       "      <td>b</td>\n",
       "      <td>4</td>\n",
       "      <td>1</td>\n",
       "      <td>none</td>\n",
       "      <td>0.2ng</td>\n",
       "    </tr>\n",
       "    <tr>\n",
       "      <th>4</th>\n",
       "      <td>19588</td>\n",
       "      <td>TSFFQALGITTK</td>\n",
       "      <td>Ex_Auto_J3_30umTB_02ngQC_60m_1-calib</td>\n",
       "      <td>b</td>\n",
       "      <td>5</td>\n",
       "      <td>2</td>\n",
       "      <td>none</td>\n",
       "      <td>0.2ng</td>\n",
       "    </tr>\n",
       "    <tr>\n",
       "      <th>...</th>\n",
       "      <td>...</td>\n",
       "      <td>...</td>\n",
       "      <td>...</td>\n",
       "      <td>...</td>\n",
       "      <td>...</td>\n",
       "      <td>...</td>\n",
       "      <td>...</td>\n",
       "      <td>...</td>\n",
       "    </tr>\n",
       "    <tr>\n",
       "      <th>2946725</th>\n",
       "      <td>96485</td>\n",
       "      <td>GFFGFPGPR</td>\n",
       "      <td>OR11_20160122_PG_HeLa_CVB3_CT_C-calib</td>\n",
       "      <td>y</td>\n",
       "      <td>4</td>\n",
       "      <td>1</td>\n",
       "      <td>medium</td>\n",
       "      <td>bulk</td>\n",
       "    </tr>\n",
       "    <tr>\n",
       "      <th>2946726</th>\n",
       "      <td>96485</td>\n",
       "      <td>GFFGFPGPR</td>\n",
       "      <td>OR11_20160122_PG_HeLa_CVB3_CT_C-calib</td>\n",
       "      <td>y</td>\n",
       "      <td>5</td>\n",
       "      <td>1</td>\n",
       "      <td>low</td>\n",
       "      <td>bulk</td>\n",
       "    </tr>\n",
       "    <tr>\n",
       "      <th>2946727</th>\n",
       "      <td>96485</td>\n",
       "      <td>GFFGFPGPR</td>\n",
       "      <td>OR11_20160122_PG_HeLa_CVB3_CT_C-calib</td>\n",
       "      <td>y</td>\n",
       "      <td>6</td>\n",
       "      <td>2</td>\n",
       "      <td>medium</td>\n",
       "      <td>bulk</td>\n",
       "    </tr>\n",
       "    <tr>\n",
       "      <th>2946728</th>\n",
       "      <td>96485</td>\n",
       "      <td>GFFGFPGPR</td>\n",
       "      <td>OR11_20160122_PG_HeLa_CVB3_CT_C-calib</td>\n",
       "      <td>y</td>\n",
       "      <td>7</td>\n",
       "      <td>2</td>\n",
       "      <td>low</td>\n",
       "      <td>bulk</td>\n",
       "    </tr>\n",
       "    <tr>\n",
       "      <th>2946729</th>\n",
       "      <td>96485</td>\n",
       "      <td>GFFGFPGPR</td>\n",
       "      <td>OR11_20160122_PG_HeLa_CVB3_CT_C-calib</td>\n",
       "      <td>y</td>\n",
       "      <td>8</td>\n",
       "      <td>2</td>\n",
       "      <td>none</td>\n",
       "      <td>bulk</td>\n",
       "    </tr>\n",
       "  </tbody>\n",
       "</table>\n",
       "<p>2946730 rows × 8 columns</p>\n",
       "</div>"
      ],
      "text/plain": [
       "          scan       peptide                              file_name Ion Type  \\\n",
       "0        19588  TSFFQALGITTK   Ex_Auto_J3_30umTB_02ngQC_60m_1-calib        b   \n",
       "1        19588  TSFFQALGITTK   Ex_Auto_J3_30umTB_02ngQC_60m_1-calib        b   \n",
       "2        19588  TSFFQALGITTK   Ex_Auto_J3_30umTB_02ngQC_60m_1-calib        b   \n",
       "3        19588  TSFFQALGITTK   Ex_Auto_J3_30umTB_02ngQC_60m_1-calib        b   \n",
       "4        19588  TSFFQALGITTK   Ex_Auto_J3_30umTB_02ngQC_60m_1-calib        b   \n",
       "...        ...           ...                                    ...      ...   \n",
       "2946725  96485     GFFGFPGPR  OR11_20160122_PG_HeLa_CVB3_CT_C-calib        y   \n",
       "2946726  96485     GFFGFPGPR  OR11_20160122_PG_HeLa_CVB3_CT_C-calib        y   \n",
       "2946727  96485     GFFGFPGPR  OR11_20160122_PG_HeLa_CVB3_CT_C-calib        y   \n",
       "2946728  96485     GFFGFPGPR  OR11_20160122_PG_HeLa_CVB3_CT_C-calib        y   \n",
       "2946729  96485     GFFGFPGPR  OR11_20160122_PG_HeLa_CVB3_CT_C-calib        y   \n",
       "\n",
       "         Ion Number  sector Intensity   type  \n",
       "0                 1       1      none  0.2ng  \n",
       "1                 2       1       low  0.2ng  \n",
       "2                 3       1       low  0.2ng  \n",
       "3                 4       1      none  0.2ng  \n",
       "4                 5       2      none  0.2ng  \n",
       "...             ...     ...       ...    ...  \n",
       "2946725           4       1    medium   bulk  \n",
       "2946726           5       1       low   bulk  \n",
       "2946727           6       2    medium   bulk  \n",
       "2946728           7       2       low   bulk  \n",
       "2946729           8       2      none   bulk  \n",
       "\n",
       "[2946730 rows x 8 columns]"
      ]
     },
     "execution_count": 13,
     "metadata": {},
     "output_type": "execute_result"
    }
   ],
   "source": [
    "cleaned_peptides = cleaned_peptides.reset_index()\n",
    "cleaned_peptides\n",
    "\n",
    "df = raw_df.merge(cleaned_peptides[[\"scan\", \"type\"]], how=\"inner\", on=[\"scan\",\"type\"])\n",
    "df"
   ]
  },
  {
   "cell_type": "markdown",
   "metadata": {},
   "source": [
    "# Perform Analysis"
   ]
  },
  {
   "cell_type": "code",
   "execution_count": 14,
   "metadata": {},
   "outputs": [],
   "source": [
    "# Make the figure 3 with the cleaned data\n",
    "df_b = df.loc[df[\"Ion Type\"] == \"b\", [\"type\", \"Intensity\", \"sector\"]]\n",
    "df_y = df.loc[df[\"Ion Type\"] == \"y\", [\"type\", \"Intensity\", \"sector\"]]\n"
   ]
  },
  {
   "cell_type": "code",
   "execution_count": 15,
   "metadata": {},
   "outputs": [
    {
     "data": {
      "text/html": [
       "<div>\n",
       "<style scoped>\n",
       "    .dataframe tbody tr th:only-of-type {\n",
       "        vertical-align: middle;\n",
       "    }\n",
       "\n",
       "    .dataframe tbody tr th {\n",
       "        vertical-align: top;\n",
       "    }\n",
       "\n",
       "    .dataframe thead th {\n",
       "        text-align: right;\n",
       "    }\n",
       "</style>\n",
       "<table border=\"1\" class=\"dataframe\">\n",
       "  <thead>\n",
       "    <tr style=\"text-align: right;\">\n",
       "      <th></th>\n",
       "      <th>type</th>\n",
       "      <th>Intensity</th>\n",
       "      <th>sector</th>\n",
       "      <th>counts</th>\n",
       "    </tr>\n",
       "  </thead>\n",
       "  <tbody>\n",
       "    <tr>\n",
       "      <th>0</th>\n",
       "      <td>0.2ng</td>\n",
       "      <td>high</td>\n",
       "      <td>1</td>\n",
       "      <td>0.017109</td>\n",
       "    </tr>\n",
       "    <tr>\n",
       "      <th>1</th>\n",
       "      <td>0.2ng</td>\n",
       "      <td>high</td>\n",
       "      <td>2</td>\n",
       "      <td>0.001642</td>\n",
       "    </tr>\n",
       "    <tr>\n",
       "      <th>2</th>\n",
       "      <td>0.2ng</td>\n",
       "      <td>high</td>\n",
       "      <td>3</td>\n",
       "      <td>0.000027</td>\n",
       "    </tr>\n",
       "    <tr>\n",
       "      <th>3</th>\n",
       "      <td>0.2ng</td>\n",
       "      <td>low</td>\n",
       "      <td>1</td>\n",
       "      <td>0.141885</td>\n",
       "    </tr>\n",
       "    <tr>\n",
       "      <th>4</th>\n",
       "      <td>0.2ng</td>\n",
       "      <td>low</td>\n",
       "      <td>2</td>\n",
       "      <td>0.022954</td>\n",
       "    </tr>\n",
       "    <tr>\n",
       "      <th>5</th>\n",
       "      <td>0.2ng</td>\n",
       "      <td>low</td>\n",
       "      <td>3</td>\n",
       "      <td>0.000460</td>\n",
       "    </tr>\n",
       "    <tr>\n",
       "      <th>6</th>\n",
       "      <td>0.2ng</td>\n",
       "      <td>medium</td>\n",
       "      <td>1</td>\n",
       "      <td>0.036127</td>\n",
       "    </tr>\n",
       "    <tr>\n",
       "      <th>7</th>\n",
       "      <td>0.2ng</td>\n",
       "      <td>medium</td>\n",
       "      <td>2</td>\n",
       "      <td>0.003414</td>\n",
       "    </tr>\n",
       "    <tr>\n",
       "      <th>8</th>\n",
       "      <td>0.2ng</td>\n",
       "      <td>medium</td>\n",
       "      <td>3</td>\n",
       "      <td>0.000014</td>\n",
       "    </tr>\n",
       "    <tr>\n",
       "      <th>9</th>\n",
       "      <td>0.2ng</td>\n",
       "      <td>none</td>\n",
       "      <td>1</td>\n",
       "      <td>0.300597</td>\n",
       "    </tr>\n",
       "    <tr>\n",
       "      <th>10</th>\n",
       "      <td>0.2ng</td>\n",
       "      <td>none</td>\n",
       "      <td>2</td>\n",
       "      <td>0.398607</td>\n",
       "    </tr>\n",
       "    <tr>\n",
       "      <th>11</th>\n",
       "      <td>0.2ng</td>\n",
       "      <td>none</td>\n",
       "      <td>3</td>\n",
       "      <td>0.077165</td>\n",
       "    </tr>\n",
       "    <tr>\n",
       "      <th>12</th>\n",
       "      <td>2ng</td>\n",
       "      <td>high</td>\n",
       "      <td>1</td>\n",
       "      <td>0.016488</td>\n",
       "    </tr>\n",
       "    <tr>\n",
       "      <th>13</th>\n",
       "      <td>2ng</td>\n",
       "      <td>high</td>\n",
       "      <td>2</td>\n",
       "      <td>0.001957</td>\n",
       "    </tr>\n",
       "    <tr>\n",
       "      <th>14</th>\n",
       "      <td>2ng</td>\n",
       "      <td>high</td>\n",
       "      <td>3</td>\n",
       "      <td>0.000012</td>\n",
       "    </tr>\n",
       "    <tr>\n",
       "      <th>15</th>\n",
       "      <td>2ng</td>\n",
       "      <td>low</td>\n",
       "      <td>1</td>\n",
       "      <td>0.174147</td>\n",
       "    </tr>\n",
       "    <tr>\n",
       "      <th>16</th>\n",
       "      <td>2ng</td>\n",
       "      <td>low</td>\n",
       "      <td>2</td>\n",
       "      <td>0.036356</td>\n",
       "    </tr>\n",
       "    <tr>\n",
       "      <th>17</th>\n",
       "      <td>2ng</td>\n",
       "      <td>low</td>\n",
       "      <td>3</td>\n",
       "      <td>0.001023</td>\n",
       "    </tr>\n",
       "    <tr>\n",
       "      <th>18</th>\n",
       "      <td>2ng</td>\n",
       "      <td>medium</td>\n",
       "      <td>1</td>\n",
       "      <td>0.035950</td>\n",
       "    </tr>\n",
       "    <tr>\n",
       "      <th>19</th>\n",
       "      <td>2ng</td>\n",
       "      <td>medium</td>\n",
       "      <td>2</td>\n",
       "      <td>0.004158</td>\n",
       "    </tr>\n",
       "    <tr>\n",
       "      <th>20</th>\n",
       "      <td>2ng</td>\n",
       "      <td>medium</td>\n",
       "      <td>3</td>\n",
       "      <td>0.000067</td>\n",
       "    </tr>\n",
       "    <tr>\n",
       "      <th>21</th>\n",
       "      <td>2ng</td>\n",
       "      <td>none</td>\n",
       "      <td>1</td>\n",
       "      <td>0.261580</td>\n",
       "    </tr>\n",
       "    <tr>\n",
       "      <th>22</th>\n",
       "      <td>2ng</td>\n",
       "      <td>none</td>\n",
       "      <td>2</td>\n",
       "      <td>0.379909</td>\n",
       "    </tr>\n",
       "    <tr>\n",
       "      <th>23</th>\n",
       "      <td>2ng</td>\n",
       "      <td>none</td>\n",
       "      <td>3</td>\n",
       "      <td>0.088354</td>\n",
       "    </tr>\n",
       "    <tr>\n",
       "      <th>24</th>\n",
       "      <td>bulk</td>\n",
       "      <td>high</td>\n",
       "      <td>1</td>\n",
       "      <td>0.013178</td>\n",
       "    </tr>\n",
       "    <tr>\n",
       "      <th>25</th>\n",
       "      <td>bulk</td>\n",
       "      <td>high</td>\n",
       "      <td>2</td>\n",
       "      <td>0.001017</td>\n",
       "    </tr>\n",
       "    <tr>\n",
       "      <th>26</th>\n",
       "      <td>bulk</td>\n",
       "      <td>high</td>\n",
       "      <td>3</td>\n",
       "      <td>0.000031</td>\n",
       "    </tr>\n",
       "    <tr>\n",
       "      <th>27</th>\n",
       "      <td>bulk</td>\n",
       "      <td>low</td>\n",
       "      <td>1</td>\n",
       "      <td>0.211035</td>\n",
       "    </tr>\n",
       "    <tr>\n",
       "      <th>28</th>\n",
       "      <td>bulk</td>\n",
       "      <td>low</td>\n",
       "      <td>2</td>\n",
       "      <td>0.077135</td>\n",
       "    </tr>\n",
       "    <tr>\n",
       "      <th>29</th>\n",
       "      <td>bulk</td>\n",
       "      <td>low</td>\n",
       "      <td>3</td>\n",
       "      <td>0.007650</td>\n",
       "    </tr>\n",
       "    <tr>\n",
       "      <th>30</th>\n",
       "      <td>bulk</td>\n",
       "      <td>medium</td>\n",
       "      <td>1</td>\n",
       "      <td>0.028987</td>\n",
       "    </tr>\n",
       "    <tr>\n",
       "      <th>31</th>\n",
       "      <td>bulk</td>\n",
       "      <td>medium</td>\n",
       "      <td>2</td>\n",
       "      <td>0.003480</td>\n",
       "    </tr>\n",
       "    <tr>\n",
       "      <th>32</th>\n",
       "      <td>bulk</td>\n",
       "      <td>medium</td>\n",
       "      <td>3</td>\n",
       "      <td>0.000150</td>\n",
       "    </tr>\n",
       "    <tr>\n",
       "      <th>33</th>\n",
       "      <td>bulk</td>\n",
       "      <td>none</td>\n",
       "      <td>1</td>\n",
       "      <td>0.196459</td>\n",
       "    </tr>\n",
       "    <tr>\n",
       "      <th>34</th>\n",
       "      <td>bulk</td>\n",
       "      <td>none</td>\n",
       "      <td>2</td>\n",
       "      <td>0.329056</td>\n",
       "    </tr>\n",
       "    <tr>\n",
       "      <th>35</th>\n",
       "      <td>bulk</td>\n",
       "      <td>none</td>\n",
       "      <td>3</td>\n",
       "      <td>0.131822</td>\n",
       "    </tr>\n",
       "    <tr>\n",
       "      <th>36</th>\n",
       "      <td>sc</td>\n",
       "      <td>high</td>\n",
       "      <td>1</td>\n",
       "      <td>0.014873</td>\n",
       "    </tr>\n",
       "    <tr>\n",
       "      <th>37</th>\n",
       "      <td>sc</td>\n",
       "      <td>high</td>\n",
       "      <td>2</td>\n",
       "      <td>0.002052</td>\n",
       "    </tr>\n",
       "    <tr>\n",
       "      <th>38</th>\n",
       "      <td>sc</td>\n",
       "      <td>high</td>\n",
       "      <td>3</td>\n",
       "      <td>0.000024</td>\n",
       "    </tr>\n",
       "    <tr>\n",
       "      <th>39</th>\n",
       "      <td>sc</td>\n",
       "      <td>low</td>\n",
       "      <td>1</td>\n",
       "      <td>0.157803</td>\n",
       "    </tr>\n",
       "    <tr>\n",
       "      <th>40</th>\n",
       "      <td>sc</td>\n",
       "      <td>low</td>\n",
       "      <td>2</td>\n",
       "      <td>0.035757</td>\n",
       "    </tr>\n",
       "    <tr>\n",
       "      <th>41</th>\n",
       "      <td>sc</td>\n",
       "      <td>low</td>\n",
       "      <td>3</td>\n",
       "      <td>0.001032</td>\n",
       "    </tr>\n",
       "    <tr>\n",
       "      <th>42</th>\n",
       "      <td>sc</td>\n",
       "      <td>medium</td>\n",
       "      <td>1</td>\n",
       "      <td>0.033037</td>\n",
       "    </tr>\n",
       "    <tr>\n",
       "      <th>43</th>\n",
       "      <td>sc</td>\n",
       "      <td>medium</td>\n",
       "      <td>2</td>\n",
       "      <td>0.004505</td>\n",
       "    </tr>\n",
       "    <tr>\n",
       "      <th>44</th>\n",
       "      <td>sc</td>\n",
       "      <td>medium</td>\n",
       "      <td>3</td>\n",
       "      <td>0.000012</td>\n",
       "    </tr>\n",
       "    <tr>\n",
       "      <th>45</th>\n",
       "      <td>sc</td>\n",
       "      <td>none</td>\n",
       "      <td>1</td>\n",
       "      <td>0.288240</td>\n",
       "    </tr>\n",
       "    <tr>\n",
       "      <th>46</th>\n",
       "      <td>sc</td>\n",
       "      <td>none</td>\n",
       "      <td>2</td>\n",
       "      <td>0.385214</td>\n",
       "    </tr>\n",
       "    <tr>\n",
       "      <th>47</th>\n",
       "      <td>sc</td>\n",
       "      <td>none</td>\n",
       "      <td>3</td>\n",
       "      <td>0.077451</td>\n",
       "    </tr>\n",
       "  </tbody>\n",
       "</table>\n",
       "</div>"
      ],
      "text/plain": [
       "     type Intensity  sector    counts\n",
       "0   0.2ng      high       1  0.017109\n",
       "1   0.2ng      high       2  0.001642\n",
       "2   0.2ng      high       3  0.000027\n",
       "3   0.2ng       low       1  0.141885\n",
       "4   0.2ng       low       2  0.022954\n",
       "5   0.2ng       low       3  0.000460\n",
       "6   0.2ng    medium       1  0.036127\n",
       "7   0.2ng    medium       2  0.003414\n",
       "8   0.2ng    medium       3  0.000014\n",
       "9   0.2ng      none       1  0.300597\n",
       "10  0.2ng      none       2  0.398607\n",
       "11  0.2ng      none       3  0.077165\n",
       "12    2ng      high       1  0.016488\n",
       "13    2ng      high       2  0.001957\n",
       "14    2ng      high       3  0.000012\n",
       "15    2ng       low       1  0.174147\n",
       "16    2ng       low       2  0.036356\n",
       "17    2ng       low       3  0.001023\n",
       "18    2ng    medium       1  0.035950\n",
       "19    2ng    medium       2  0.004158\n",
       "20    2ng    medium       3  0.000067\n",
       "21    2ng      none       1  0.261580\n",
       "22    2ng      none       2  0.379909\n",
       "23    2ng      none       3  0.088354\n",
       "24   bulk      high       1  0.013178\n",
       "25   bulk      high       2  0.001017\n",
       "26   bulk      high       3  0.000031\n",
       "27   bulk       low       1  0.211035\n",
       "28   bulk       low       2  0.077135\n",
       "29   bulk       low       3  0.007650\n",
       "30   bulk    medium       1  0.028987\n",
       "31   bulk    medium       2  0.003480\n",
       "32   bulk    medium       3  0.000150\n",
       "33   bulk      none       1  0.196459\n",
       "34   bulk      none       2  0.329056\n",
       "35   bulk      none       3  0.131822\n",
       "36     sc      high       1  0.014873\n",
       "37     sc      high       2  0.002052\n",
       "38     sc      high       3  0.000024\n",
       "39     sc       low       1  0.157803\n",
       "40     sc       low       2  0.035757\n",
       "41     sc       low       3  0.001032\n",
       "42     sc    medium       1  0.033037\n",
       "43     sc    medium       2  0.004505\n",
       "44     sc    medium       3  0.000012\n",
       "45     sc      none       1  0.288240\n",
       "46     sc      none       2  0.385214\n",
       "47     sc      none       3  0.077451"
      ]
     },
     "execution_count": 15,
     "metadata": {},
     "output_type": "execute_result"
    }
   ],
   "source": [
    "\n",
    "fig_df_b = get_counts_df(df_b)\n",
    "fig_df_b"
   ]
  },
  {
   "cell_type": "code",
   "execution_count": 16,
   "metadata": {},
   "outputs": [],
   "source": [
    "fig_df_y = get_counts_df(df_y)"
   ]
  },
  {
   "cell_type": "code",
   "execution_count": 17,
   "metadata": {},
   "outputs": [
    {
     "data": {
      "image/png": "[encoded data removed]",
      "text/plain": [
       "<Figure size 864x288 with 1 Axes>"
      ]
     },
     "metadata": {
      "needs_background": "light"
     },
     "output_type": "display_data"
    },
    {
     "data": {
      "image/png": "[encoded data removed]",
      "text/plain": [
       "<Figure size 864x288 with 1 Axes>"
      ]
     },
     "metadata": {
      "needs_background": "light"
     },
     "output_type": "display_data"
    }
   ],
   "source": [
    "make_figure(fig_df_y)\n",
    "make_figure(fig_df_b)"
   ]
  },
  {
   "cell_type": "code",
   "execution_count": 22,
   "metadata": {},
   "outputs": [],
   "source": [
    "def multiple_permutation_test(df, num_shuffles, random_state):\n",
    "    # Need a bonferroni correction because we're doing multiple comparisons\n",
    "    bonferroni_correction = 0\n",
    "\n",
    "    # P-value matrix\n",
    "    p_matrix = np.full((len(types), len(types)), np.nan)\n",
    "    \n",
    "    # Set up tqdm\n",
    "    combs = list(combinations(range(len(types)), 2))\n",
    "    loop = tqdm(total=len(combs)*num_shuffles)\n",
    "\n",
    "    # We look at every possible combination of types\n",
    "    for (i,j) in combs:\n",
    "        # Permutation data frame. But it's funny because PDF\n",
    "        pdf = df[(df[\"type\"] == types[i]) | (df[\"type\"] == types[j])].copy()\n",
    "        \n",
    "        # Compute the statistic for when the labels are what they should be\n",
    "        counts_df = get_counts_df(pdf)\n",
    "        dist1 = counts_df.loc[counts_df[\"type\"] == types[i], \"counts\"]\n",
    "        dist2 = counts_df.loc[counts_df[\"type\"] == types[j], \"counts\"]\n",
    "\n",
    "        # The statistic we'll be testing is the Jensen-Shannon Divergence\n",
    "        # It is a symmetric measure of the distance between two probability distributions\n",
    "        test_statistic = jensenshannon(dist1, dist2)\n",
    "        print(test_statistic)\n",
    "        statistic_distribution = []\n",
    "        for n in range(num_shuffles):\n",
    "            # Shuffle the types\n",
    "            pdf.loc[:, \"type\"] = random_state.permutation(pdf.loc[:, \"type\"].values)\n",
    "\n",
    "            # Compute the distributions\n",
    "            counts_df = get_counts_df(pdf)\n",
    "            dist1 = counts_df.loc[counts_df[\"type\"] == types[i], \"counts\"]\n",
    "            dist2 = counts_df.loc[counts_df[\"type\"] == types[j], \"counts\"]\n",
    "\n",
    "            # Compute the statistic\n",
    "            statistic_distribution.append(jensenshannon(dist1, dist2))\n",
    "\n",
    "            loop.update()\n",
    "            \n",
    "        statistic_distribution = np.array(statistic_distribution)\n",
    "        sns.kdeplot(x=statistic_distribution)\n",
    "        plt.show()\n",
    "        # Compute the p-value using the distribution we found\n",
    "        p_val = np.sum(statistic_distribution >= test_statistic)/len(statistic_distribution)\n",
    "\n",
    "        # Place the p-value into the matrix (it's symmetric)\n",
    "        p_matrix[i, j] = p_val\n",
    "        p_matrix[j, i] = p_val\n",
    "\n",
    "        # Increment the bonferroni correction term\n",
    "        bonferroni_correction += 1\n",
    "\n",
    "    \n",
    "    # Apply the bonferroni correction\n",
    "    p_matrix *= bonferroni_correction\n",
    "\n",
    "    loop.close()\n",
    "    \n",
    "    return p_matrix\n"
   ]
  },
  {
   "cell_type": "code",
   "execution_count": 23,
   "metadata": {},
   "outputs": [
    {
     "data": {
      "application/vnd.jupyter.widget-view+json": {
       "model_id": "e08caf681e8d4c7b9aa8f5c3737d0896",
       "version_major": 2,
       "version_minor": 0
      },
      "text/plain": [
       "  0%|          | 0/6000 [00:00<?, ?it/s]"
      ]
     },
     "metadata": {},
     "output_type": "display_data"
    },
    {
     "name": "stdout",
     "output_type": "stream",
     "text": [
      "0.052437984991192475\n"
     ]
    },
    {
     "data": {
      "image/png": "[encoded data removed]",
      "text/plain": [
       "<Figure size 432x288 with 1 Axes>"
      ]
     },
     "metadata": {
      "needs_background": "light"
     },
     "output_type": "display_data"
    },
    {
     "name": "stdout",
     "output_type": "stream",
     "text": [
      "0.027770230747396565\n"
     ]
    },
    {
     "data": {
      "image/png": "[encoded data removed]",
      "text/plain": [
       "<Figure size 432x288 with 1 Axes>"
      ]
     },
     "metadata": {
      "needs_background": "light"
     },
     "output_type": "display_data"
    },
    {
     "name": "stdout",
     "output_type": "stream",
     "text": [
      "0.13240073428286817\n"
     ]
    },
    {
     "data": {
      "image/png": "[encoded data removed]",
      "text/plain": [
       "<Figure size 432x288 with 1 Axes>"
      ]
     },
     "metadata": {
      "needs_background": "light"
     },
     "output_type": "display_data"
    },
    {
     "name": "stdout",
     "output_type": "stream",
     "text": [
      "0.041164662005894616\n"
     ]
    },
    {
     "data": {
      "image/png": "[encoded data removed]",
      "text/plain": [
       "<Figure size 432x288 with 1 Axes>"
      ]
     },
     "metadata": {
      "needs_background": "light"
     },
     "output_type": "display_data"
    },
    {
     "name": "stdout",
     "output_type": "stream",
     "text": [
      "0.10455865750168822\n"
     ]
    },
    {
     "data": {
      "image/png": "[encoded data removed]",
      "text/plain": [
       "<Figure size 432x288 with 1 Axes>"
      ]
     },
     "metadata": {
      "needs_background": "light"
     },
     "output_type": "display_data"
    },
    {
     "name": "stdout",
     "output_type": "stream",
     "text": [
      "0.11151685622411787\n"
     ]
    },
    {
     "data": {
      "image/png": "[encoded data removed]",
      "text/plain": [
       "<Figure size 432x288 with 1 Axes>"
      ]
     },
     "metadata": {
      "needs_background": "light"
     },
     "output_type": "display_data"
    },
    {
     "data": {
      "text/plain": [
       "array([[nan,  0.,  0.,  0.],\n",
       "       [ 0., nan,  0.,  0.],\n",
       "       [ 0.,  0., nan,  0.],\n",
       "       [ 0.,  0.,  0., nan]])"
      ]
     },
     "execution_count": 23,
     "metadata": {},
     "output_type": "execute_result"
    }
   ],
   "source": [
    "random_state = np.random.RandomState(8)\n",
    "\n",
    "multiple_permutation_test(df_y, 1000, random_state)"
   ]
  },
  {
   "cell_type": "code",
   "execution_count": null,
   "metadata": {},
   "outputs": [],
   "source": []
  }
 ],
 "metadata": {
  "interpreter": {
   "hash": "a01b61665cb6a105f68ab4ab4d9268da5a8c4fd237cf0543a9d8cf848152213e"
  },
  "kernelspec": {
   "display_name": "Python 3.9.10 ('venv': venv)",
   "language": "python",
   "name": "python3"
  },
  "language_info": {
   "codemirror_mode": {
    "name": "ipython",
    "version": 3
   },
   "file_extension": ".py",
   "mimetype": "text/x-python",
   "name": "python",
   "nbconvert_exporter": "python",
   "pygments_lexer": "ipython3",
   "version": "3.9.10"
  },
  "orig_nbformat": 4
 },
 "nbformat": 4,
 "nbformat_minor": 2
}
