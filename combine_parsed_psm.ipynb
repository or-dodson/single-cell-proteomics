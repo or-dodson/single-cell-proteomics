{
 "cells": [
  {
   "cell_type": "code",
   "execution_count": null,
   "id": "8d8b4aac",
   "metadata": {},
   "outputs": [],
   "source": [
    "from combined_psm_parser import *"
   ]
  },
  {
   "cell_type": "code",
   "execution_count": null,
   "id": "b9104f8f",
   "metadata": {},
   "outputs": [],
   "source": [
    "sc_filenames = ['sc_rep1','sc_rep2','sc_rep3','sc_rep4','sc_rep5']\n",
    "list_2ng_filenames = ['2ng_rep1', '2ng_rep2', '2ng_rep3', '2ng_rep4', '2ng_rep5', '2ng_rep6']\n",
    "list_02ng_filenames = ['0.2ng_rep1','0.2ng_rep2','0.2ng_rep3','0.2ng_rep4','0.2ng_rep5','0.2ng_rep6']\n",
    "\n",
    "file_lists = [sc_filenames, list_2ng_filenames, list_02ng_filenames]\n",
    "\n",
    "for file_list in file_lists:\n",
    "    frames = []\n",
    "    for file_name in file_list:\n",
    "        read_file_path = \"data/\" + file_name + '.tsv'\n",
    "        \n",
    "        print(f'cleaning {read_file_path}...')\n",
    "        df = clean_data(read_file_path)\n",
    "        \n",
    "        frames.append(df)\n",
    "    \n",
    "    the_ultimate_df = pd.concat(frames)\n",
    "    typename = file_list[0].split('_')[0]\n",
    "    write_file_path = \"data/combined/all_\" + typename + \".tsv\"\n",
    "    the_ultimate_df.to_csv(write_file_path, sep=\"\\t\", index=False)"
   ]
  },
  {
   "cell_type": "code",
   "execution_count": null,
   "id": "1e83218a",
   "metadata": {},
   "outputs": [],
   "source": [
    "# data files for bulk and single cell mass spec data\n",
    "file_0_2ng = \"./data/combined/all_0.2ng.tsv\"\n",
    "file_2ng = \"./data/combined/all_2ng.tsv\"\n",
    "file_sc = \"./data/combined/all_sc.tsv\""
   ]
  },
  {
   "cell_type": "code",
   "execution_count": null,
   "id": "b09ae68a",
   "metadata": {},
   "outputs": [],
   "source": [
    "df = pd.read_csv(file_0_2ng, sep='\\t')\n",
    "df"
   ]
  }
 ],
 "metadata": {
  "kernelspec": {
   "display_name": "Python 3 (ipykernel)",
   "language": "python",
   "name": "python3"
  },
  "language_info": {
   "codemirror_mode": {
    "name": "ipython",
    "version": 3
   },
   "file_extension": ".py",
   "mimetype": "text/x-python",
   "name": "python",
   "nbconvert_exporter": "python",
   "pygments_lexer": "ipython3",
   "version": "3.8.12"
  }
 },
 "nbformat": 4,
 "nbformat_minor": 5
}
