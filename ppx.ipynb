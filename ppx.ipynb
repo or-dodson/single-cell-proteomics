{
 "cells": [
  {
   "cell_type": "code",
   "execution_count": 1,
   "id": "1af0167f-ebde-4635-80fe-bd346f3992da",
   "metadata": {},
   "outputs": [],
   "source": [
    "import ppx"
   ]
  },
  {
   "cell_type": "code",
   "execution_count": 2,
   "id": "5f555877-fe3d-4b94-9a78-c68d759e0566",
   "metadata": {},
   "outputs": [],
   "source": [
    "proj = ppx.find_project(\"MSV000087524\", local=\"/Users/robertoldroyd/BIO465/data\")"
   ]
  },
  {
   "cell_type": "code",
   "execution_count": 3,
   "id": "5e6433f3-8505-4527-a806-3bf3acb2c0a4",
   "metadata": {},
   "outputs": [
    {
     "name": "stdout",
     "output_type": "stream",
     "text": [
      "['ccms_parameters/params.xml', 'ccms_peak/Hela Single Cell QC mzML/Ex_Auto_J3_30umTB_02ngQC_60m_1.mzML', 'ccms_peak/Hela Single Cell QC mzML/Ex_Auto_J3_30umTB_02ngQC_60m_2.mzML', 'ccms_peak/Hela Single Cell QC mzML/Ex_Auto_J3_30umTB_2ngQC_60m_1.mzML', 'ccms_peak/Hela Single Cell QC mzML/Ex_Auto_J3_30umTB_2ngQC_60m_2.mzML', 'ccms_peak/Hela Single Cell QC mzML/Ex_Auto_K13_30umTA_02ngQC_60m_1.mzML', 'ccms_peak/Hela Single Cell QC mzML/Ex_Auto_K13_30umTA_02ngQC_60m_2.mzML', 'ccms_peak/Hela Single Cell QC mzML/Ex_Auto_K13_30umTA_2ngQC_60m_1.mzML', 'ccms_peak/Hela Single Cell QC mzML/Ex_Auto_K13_30umTA_2ngQC_60m_2.mzML', 'ccms_peak/Hela Single Cell QC mzML/Ex_Auto_W17_30umTA_02ngQC_60m_3.mzML', 'ccms_peak/Hela Single Cell QC mzML/Ex_Auto_W17_30umTA_02ngQC_60m_4.mzML', 'ccms_peak/Hela Single Cell QC mzML/Ex_Auto_W17_30umTB_2ngQC_60m_1.mzML', 'ccms_peak/Hela Single Cell QC mzML/Ex_Auto_W17_30umTB_2ngQC_60m_2.mzML', 'raw/Hela Single Cell QC mzML/Ex_Auto_J3_30umTB_02ngQC_60m_1.mzML', 'raw/Hela Single Cell QC mzML/Ex_Auto_J3_30umTB_02ngQC_60m_2.mzML', 'raw/Hela Single Cell QC mzML/Ex_Auto_J3_30umTB_2ngQC_60m_1.mzML', 'raw/Hela Single Cell QC mzML/Ex_Auto_J3_30umTB_2ngQC_60m_2.mzML', 'raw/Hela Single Cell QC mzML/Ex_Auto_K13_30umTA_02ngQC_60m_1.mzML', 'raw/Hela Single Cell QC mzML/Ex_Auto_K13_30umTA_02ngQC_60m_2.mzML', 'raw/Hela Single Cell QC mzML/Ex_Auto_K13_30umTA_2ngQC_60m_1.mzML', 'raw/Hela Single Cell QC mzML/Ex_Auto_K13_30umTA_2ngQC_60m_2.mzML', 'raw/Hela Single Cell QC mzML/Ex_Auto_W17_30umTA_02ngQC_60m_3.mzML', 'raw/Hela Single Cell QC mzML/Ex_Auto_W17_30umTA_02ngQC_60m_4.mzML', 'raw/Hela Single Cell QC mzML/Ex_Auto_W17_30umTB_2ngQC_60m_1.mzML', 'raw/Hela Single Cell QC mzML/Ex_Auto_W17_30umTB_2ngQC_60m_2.mzML', 'updates/2021-09-23_hboekweg_b2c2c3bd/ccms_parameters/params.xml', 'updates/2021-09-23_hboekweg_b2c2c3bd/raw/Ex_Auto_J3_30umTB_02ngQC_60m_1.raw', 'updates/2021-09-23_hboekweg_b2c2c3bd/raw/Ex_Auto_J3_30umTB_02ngQC_60m_2.raw', 'updates/2021-09-23_hboekweg_b2c2c3bd/raw/Ex_Auto_J3_30umTB_2ngQC_60m_1.raw', 'updates/2021-09-23_hboekweg_b2c2c3bd/raw/Ex_Auto_J3_30umTB_2ngQC_60m_2.raw', 'updates/2021-09-23_hboekweg_b2c2c3bd/raw/Ex_Auto_K13_30umTA_02ngQC_60m_1.raw', 'updates/2021-09-23_hboekweg_b2c2c3bd/raw/Ex_Auto_K13_30umTA_02ngQC_60m_2.raw', 'updates/2021-09-23_hboekweg_b2c2c3bd/raw/Ex_Auto_K13_30umTA_2ngQC_60m_1.raw', 'updates/2021-09-23_hboekweg_b2c2c3bd/raw/Ex_Auto_K13_30umTA_2ngQC_60m_2.raw', 'updates/2021-09-23_hboekweg_b2c2c3bd/raw/Ex_Auto_W17_30umTA_02ngQC_60m_3.raw', 'updates/2021-09-23_hboekweg_b2c2c3bd/raw/Ex_Auto_W17_30umTA_02ngQC_60m_4.raw', 'updates/2021-09-23_hboekweg_b2c2c3bd/raw/Ex_Auto_W17_30umTB_2ngQC_60m_1.raw', 'updates/2021-09-23_hboekweg_b2c2c3bd/raw/Ex_Auto_W17_30umTB_2ngQC_60m_2.raw', 'updates/2021-11-01_hboekweg_5ab97297/ccms_parameters/params.xml', 'updates/2021-11-01_hboekweg_5ab97297/raw/D19_15um30cm_SC1.mzML', 'updates/2021-11-01_hboekweg_5ab97297/raw/D19_15um30cm_SC1.raw', 'updates/2021-11-01_hboekweg_5ab97297/raw/D19_15um30cm_SC2.mzML', 'updates/2021-11-01_hboekweg_5ab97297/raw/D19_15um30cm_SC2.raw', 'updates/2021-11-01_hboekweg_5ab97297/raw/D19_15um30cm_SC3.mzML', 'updates/2021-11-01_hboekweg_5ab97297/raw/D19_15um30cm_SC3.raw', 'updates/2021-11-01_hboekweg_5ab97297/raw/D19_15um30cm_SC4.mzML', 'updates/2021-11-01_hboekweg_5ab97297/raw/D19_15um30cm_SC4.raw', 'updates/2021-11-01_hboekweg_5ab97297/raw/D19_15um30cm_SC5.mzML', 'updates/2021-11-01_hboekweg_5ab97297/raw/D19_15um30cm_SC5.raw']\n"
     ]
    }
   ],
   "source": [
    "remote_files = proj.remote_files()\n",
    "print(remote_files)"
   ]
  },
  {
   "cell_type": "code",
   "execution_count": 7,
   "id": "3a542328-071e-4505-bb16-468909f84b9f",
   "metadata": {},
   "outputs": [
    {
     "ename": "ImportError",
     "evalue": "IProgress not found. Please update jupyter and ipywidgets. See https://ipywidgets.readthedocs.io/en/stable/user_install.html",
     "output_type": "error",
     "traceback": [
      "\u001b[0;31m---------------------------------------------------------------------------\u001b[0m",
      "\u001b[0;31mImportError\u001b[0m                               Traceback (most recent call last)",
      "\u001b[0;32m<ipython-input-7-ab1345de4861>\u001b[0m in \u001b[0;36m<module>\u001b[0;34m\u001b[0m\n\u001b[1;32m      1\u001b[0m \u001b[0;32mfor\u001b[0m \u001b[0mfile\u001b[0m \u001b[0;32min\u001b[0m \u001b[0mremote_files\u001b[0m\u001b[0;34m:\u001b[0m\u001b[0;34m\u001b[0m\u001b[0;34m\u001b[0m\u001b[0m\n\u001b[0;32m----> 2\u001b[0;31m     \u001b[0mdownloaded\u001b[0m \u001b[0;34m=\u001b[0m \u001b[0mproj\u001b[0m\u001b[0;34m.\u001b[0m\u001b[0mdownload\u001b[0m\u001b[0;34m(\u001b[0m\u001b[0mfile\u001b[0m\u001b[0;34m)\u001b[0m\u001b[0;34m\u001b[0m\u001b[0;34m\u001b[0m\u001b[0m\n\u001b[0m\u001b[1;32m      3\u001b[0m     \u001b[0mprint\u001b[0m\u001b[0;34m(\u001b[0m\u001b[0mdownloaded\u001b[0m\u001b[0;34m)\u001b[0m\u001b[0;34m\u001b[0m\u001b[0;34m\u001b[0m\u001b[0m\n",
      "\u001b[0;32m~/opt/anaconda3/envs/lab/lib/python3.9/site-packages/ppx/project.py\u001b[0m in \u001b[0;36mdownload\u001b[0;34m(self, files, force_, silent)\u001b[0m\n\u001b[1;32m    241\u001b[0m             )\n\u001b[1;32m    242\u001b[0m \u001b[0;34m\u001b[0m\u001b[0m\n\u001b[0;32m--> 243\u001b[0;31m         return self._parser.download(\n\u001b[0m\u001b[1;32m    244\u001b[0m             \u001b[0mfiles\u001b[0m\u001b[0;34m,\u001b[0m \u001b[0mself\u001b[0m\u001b[0;34m.\u001b[0m\u001b[0mlocal\u001b[0m\u001b[0;34m,\u001b[0m \u001b[0mforce_\u001b[0m\u001b[0;34m=\u001b[0m\u001b[0mforce_\u001b[0m\u001b[0;34m,\u001b[0m \u001b[0msilent\u001b[0m\u001b[0;34m=\u001b[0m\u001b[0msilent\u001b[0m\u001b[0;34m\u001b[0m\u001b[0;34m\u001b[0m\u001b[0m\n\u001b[1;32m    245\u001b[0m         )\n",
      "\u001b[0;32m~/opt/anaconda3/envs/lab/lib/python3.9/site-packages/ppx/ftp.py\u001b[0m in \u001b[0;36mdownload\u001b[0;34m(self, files, dest_dir, force_, silent)\u001b[0m\n\u001b[1;32m    230\u001b[0m         )\n\u001b[1;32m    231\u001b[0m \u001b[0;34m\u001b[0m\u001b[0m\n\u001b[0;32m--> 232\u001b[0;31m         \u001b[0;32mfor\u001b[0m \u001b[0mfname\u001b[0m \u001b[0;32min\u001b[0m \u001b[0moverall_pbar\u001b[0m\u001b[0;34m(\u001b[0m\u001b[0mfiles\u001b[0m\u001b[0;34m)\u001b[0m\u001b[0;34m:\u001b[0m\u001b[0;34m\u001b[0m\u001b[0;34m\u001b[0m\u001b[0m\n\u001b[0m\u001b[1;32m    233\u001b[0m             \u001b[0mout_file\u001b[0m \u001b[0;34m=\u001b[0m \u001b[0mPath\u001b[0m\u001b[0;34m(\u001b[0m\u001b[0mdest_dir\u001b[0m\u001b[0;34m,\u001b[0m \u001b[0mfname\u001b[0m\u001b[0;34m)\u001b[0m\u001b[0;34m\u001b[0m\u001b[0;34m\u001b[0m\u001b[0m\n\u001b[1;32m    234\u001b[0m             \u001b[0mout_files\u001b[0m\u001b[0;34m.\u001b[0m\u001b[0mappend\u001b[0m\u001b[0;34m(\u001b[0m\u001b[0mout_file\u001b[0m\u001b[0;34m)\u001b[0m\u001b[0;34m\u001b[0m\u001b[0;34m\u001b[0m\u001b[0m\n",
      "\u001b[0;32m~/opt/anaconda3/envs/lab/lib/python3.9/site-packages/tqdm/notebook.py\u001b[0m in \u001b[0;36m__init__\u001b[0;34m(self, *args, **kwargs)\u001b[0m\n\u001b[1;32m    237\u001b[0m         \u001b[0mself\u001b[0m\u001b[0;34m.\u001b[0m\u001b[0mncols\u001b[0m \u001b[0;34m=\u001b[0m \u001b[0;34m'100%'\u001b[0m \u001b[0;32mif\u001b[0m \u001b[0mself\u001b[0m\u001b[0;34m.\u001b[0m\u001b[0mdynamic_ncols\u001b[0m \u001b[0;32melse\u001b[0m \u001b[0mkwargs\u001b[0m\u001b[0;34m.\u001b[0m\u001b[0mget\u001b[0m\u001b[0;34m(\u001b[0m\u001b[0;34m\"ncols\"\u001b[0m\u001b[0;34m,\u001b[0m \u001b[0;32mNone\u001b[0m\u001b[0;34m)\u001b[0m\u001b[0;34m\u001b[0m\u001b[0;34m\u001b[0m\u001b[0m\n\u001b[1;32m    238\u001b[0m \u001b[0;34m\u001b[0m\u001b[0m\n\u001b[0;32m--> 239\u001b[0;31m         \u001b[0;31m# Replace with IPython progress bar display (with correct total)\u001b[0m\u001b[0;34m\u001b[0m\u001b[0;34m\u001b[0m\u001b[0;34m\u001b[0m\u001b[0m\n\u001b[0m\u001b[1;32m    240\u001b[0m         \u001b[0munit_scale\u001b[0m \u001b[0;34m=\u001b[0m \u001b[0;36m1\u001b[0m \u001b[0;32mif\u001b[0m \u001b[0mself\u001b[0m\u001b[0;34m.\u001b[0m\u001b[0munit_scale\u001b[0m \u001b[0;32mis\u001b[0m \u001b[0;32mTrue\u001b[0m \u001b[0;32melse\u001b[0m \u001b[0mself\u001b[0m\u001b[0;34m.\u001b[0m\u001b[0munit_scale\u001b[0m \u001b[0;32mor\u001b[0m \u001b[0;36m1\u001b[0m\u001b[0;34m\u001b[0m\u001b[0;34m\u001b[0m\u001b[0m\n\u001b[1;32m    241\u001b[0m         \u001b[0mtotal\u001b[0m \u001b[0;34m=\u001b[0m \u001b[0mself\u001b[0m\u001b[0;34m.\u001b[0m\u001b[0mtotal\u001b[0m \u001b[0;34m*\u001b[0m \u001b[0munit_scale\u001b[0m \u001b[0;32mif\u001b[0m \u001b[0mself\u001b[0m\u001b[0;34m.\u001b[0m\u001b[0mtotal\u001b[0m \u001b[0;32melse\u001b[0m \u001b[0mself\u001b[0m\u001b[0;34m.\u001b[0m\u001b[0mtotal\u001b[0m\u001b[0;34m\u001b[0m\u001b[0;34m\u001b[0m\u001b[0m\n",
      "\u001b[0;32m~/opt/anaconda3/envs/lab/lib/python3.9/site-packages/tqdm/notebook.py\u001b[0m in \u001b[0;36mstatus_printer\u001b[0;34m(_, total, desc, ncols)\u001b[0m\n\u001b[1;32m    110\u001b[0m         \u001b[0;31m# DEPRECATED: replaced with an 'info' style bar\u001b[0m\u001b[0;34m\u001b[0m\u001b[0;34m\u001b[0m\u001b[0;34m\u001b[0m\u001b[0m\n\u001b[1;32m    111\u001b[0m         \u001b[0;31m# if not total:\u001b[0m\u001b[0;34m\u001b[0m\u001b[0;34m\u001b[0m\u001b[0;34m\u001b[0m\u001b[0m\n\u001b[0;32m--> 112\u001b[0;31m         \u001b[0;31m#    return super(tqdm_notebook, tqdm_notebook).status_printer(file)\u001b[0m\u001b[0;34m\u001b[0m\u001b[0;34m\u001b[0m\u001b[0;34m\u001b[0m\u001b[0m\n\u001b[0m\u001b[1;32m    113\u001b[0m \u001b[0;34m\u001b[0m\u001b[0m\n\u001b[1;32m    114\u001b[0m         \u001b[0;31m# fp = file\u001b[0m\u001b[0;34m\u001b[0m\u001b[0;34m\u001b[0m\u001b[0;34m\u001b[0m\u001b[0m\n",
      "\u001b[0;31mImportError\u001b[0m: IProgress not found. Please update jupyter and ipywidgets. See https://ipywidgets.readthedocs.io/en/stable/user_install.html"
     ]
    }
   ],
   "source": [
    "for file in remote_files:\n",
    "    downloaded = proj.download(file)\n",
    "    print(downloaded)"
   ]
  },
  {
   "cell_type": "code",
   "execution_count": null,
   "id": "6d3fdcb9-557e-41f7-8442-a2360c4f4450",
   "metadata": {},
   "outputs": [],
   "source": []
  }
 ],
 "metadata": {
  "kernelspec": {
   "display_name": "Python 3",
   "language": "python",
   "name": "python3"
  },
  "language_info": {
   "codemirror_mode": {
    "name": "ipython",
    "version": 3
   },
   "file_extension": ".py",
   "mimetype": "text/x-python",
   "name": "python",
   "nbconvert_exporter": "python",
   "pygments_lexer": "ipython3",
   "version": "3.9.6"
  }
 },
 "nbformat": 4,
 "nbformat_minor": 5
}
